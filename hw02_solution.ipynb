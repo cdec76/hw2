{
  "nbformat": 4,
  "nbformat_minor": 0,
  "metadata": {
    "colab": {
      "name": "hw02-solution.ipynb",
      "provenance": [],
      "collapsed_sections": []
    },
    "kernelspec": {
      "name": "python3",
      "display_name": "Python 3"
    }
  },
  "cells": [
    {
      "cell_type": "markdown",
      "metadata": {
        "id": "-D8Ji3sf_HsB"
      },
      "source": [
        "# Statistics 159/259, Homework 2. Election Fraud\n",
        "\n",
        "- **Due 2/7/2021, 11:59PM PT**\n",
        "\n",
        "- Profs. Perez and Stark, Department of Statistics, UC Berkeley\n",
        "\n",
        "- This assignment is worth a maximum of **30 points**.\n",
        "\n",
        "\n",
        "For this assignment, you will create a Jupyter Notebook called\n",
        "`hw02-solution.ipynb` where you will type up your solutions. Create the\n",
        "notebook with the contents of the questions below, and fill in your answer\n",
        "below each question. You will need to add this new file to your repository and\n",
        "push it back up to Github Classroom so we can see it. Please keep each top-level question (numbered heading with a [XX points] marker) _in a separate cell_.\n",
        "\n",
        "**Problem context - claims of fraud in the 2020 US Elections:** Charles J.\n",
        "Cicchetti, Ph.D., filed [a\n",
        "declaration](https://www.supremecourt.gov/DocketPDF/22/22O155/163048/20201208132827887_TX-v-State-ExpedMot%202020-12-07%20FINAL.pdf\n",
        ") in the recent Supreme Court challenge to the election results in several\n",
        "states. Among other things, Cicchetti discusses hypothesis tests about the vote\n",
        "in Georgia. Paragraph 11 reports a Z-score of 396.3; paragraph 12 reports a\n",
        "Z-score of 108.7; and paragraph 15 reports a Z-score 1,891.\n",
        "\n"
      ]
    },
    {
      "cell_type": "markdown",
      "metadata": {
        "id": "k6iLvQNN_cpp"
      },
      "source": [
        "## [ 8 Points]  Explain the hypothesis tests. \n",
        "\n",
        "- What are the null hypotheses? \n",
        "- How is the Z-score calculated?\n",
        "- How are the null hypotheses connected to election error or fraud in the 2020 election?\n",
        "- Suppose the null hypotheses are false. Does that imply there was error or fraud in 2020?"
      ]
    },
    {
      "cell_type": "markdown",
      "metadata": {
        "id": "GGwQqafnAF8r"
      },
      "source": [
        "\n",
        "\n",
        "1.   The null hypotheses are \n",
        "  \n",
        "  for the Z-score of 396.3 the hypotheses are\n",
        "\n",
        "  $H_0$: other thing being the same Clinton and Biden would have the equal number of the votes \n",
        "\n",
        "  $H_1$: other thing being the same Clinton and Biden would not have the equal number of the votes\n",
        "\n",
        "  for the Z-score of 108.7 the hypotheses are\n",
        "\n",
        "  $H_0$: the percentages of the votes Cliton and Biden achieved in the respective election are similar\n",
        "\n",
        "  $H_1$: the percentages of the votes Cliton and Biden achieved in the respective election are not similar\n",
        "\n",
        "  for the Z-score of 1891 the hypotheses are\n",
        "\n",
        "  $H_0$: the votes from two samples, one in Nov 4th and the other in Nov 18th, are statistically similar\n",
        "  \n",
        "  $H_1$: the votes from two samples,  one in Nov 4th and the other in Nov 18th, are not statistically similar\n",
        "\n",
        "2.   Z-score\n",
        "\n",
        "  for paragraph 11 the Z-score of 396.3\n",
        "\n",
        "  measure the number of standard deviations the observation is above the mean value of comparison being made that is \n",
        "  \n",
        "  $\\frac{|\\mu_{Clinton}-\\mu_{Biden}|}{\\sqrt{\\sigma^{2}_{Clinton}+\\sigma^{2}_{Biden}}}$ where $\\sigma^{2}_{i} = \\mu_{i}(1-\\frac{\\mu_{i}}{n})$\n",
        "\n",
        "  for paragraph 12 the Z-score of 108.7\n",
        "\n",
        "  $\\frac{|p_{Clinton} - p_{Biden}|}{\\sqrt{\\sigma^{2}_{Clinton}+\\sigma^{2}_{Biden}}}$ where $\\sigma^{2}_{i} = \\frac{p_{i}*(1-p_{i})}{n_{i}}$\n",
        "\n",
        "  for paragraph 15 the Z-score of 1891\n",
        "\n",
        "  $\\frac{|n_{p}p_{p}-n_{1-p}p_{1-p}|}{\\sqrt{\\sigma^{2}_{p}+\\sigma^{2}_{1-p}}}$ where $\\sigma^{2}_{q} = n_{q}p_{q}(1-p_{q})$\n",
        "\n",
        "3.   For the hypothesis of paragraph 11, Cicchetti state that the votes received in 2020 is not statistically different with that in 2016. Thus, if in 2016 there is no error or fraud in election then in 2020, the probability of error or fraud is extremely small. The same situation in for the hypothesis of paragraph 12. For the hypothesis of paragraph 15, as stated by Cicchetti, \"the Georgia reversal in the outcome raises questions because the votes tabulated in the two time period oculd not be random samples from the same population of all votes cast\", since Georgia has a reversal in after Nov 4th, some people questioned the reversal, since they believed that it should have the same distribution as before Nov 4th, or there might be error or fraud in the reversal. Cicchetti used hypothesis of paragraph 15 to verified that two samples are not in the same distributions.\n",
        "\n",
        "4.   No. Even if rejecting the null hypotheses of paragraph 11 and paragraph 12, it does not imply that there are fraud or error in the election. One could not simply compare Clinton with Biden, since Biden might originally have more supporters than Clinton, or vice versa for the Trump side. If rejecting the null hypothesis of paragraph 15, it also does not mean there are fraud or error. The mail vote is usually much slower and due to covid-19, most Biden supporters choose to using mail to vote, thus they received later."
      ]
    },
    {
      "cell_type": "code",
      "metadata": {
        "colab": {
          "base_uri": "https://localhost:8080/",
          "height": 72
        },
        "id": "EpGJEPf--6WO",
        "outputId": "f7629794-a7f8-45b9-e713-f5183ad1a971"
      },
      "source": [
        "from google.colab import drive\n",
        "drive.mount('/content/drive')\n",
        "import pandas as pd\n",
        "import numpy as np\n",
        "import os\n",
        "os.getcwd()"
      ],
      "execution_count": 111,
      "outputs": [
        {
          "output_type": "stream",
          "text": [
            "Drive already mounted at /content/drive; to attempt to forcibly remount, call drive.mount(\"/content/drive\", force_remount=True).\n"
          ],
          "name": "stdout"
        },
        {
          "output_type": "execute_result",
          "data": {
            "application/vnd.google.colaboratory.intrinsic+json": {
              "type": "string"
            },
            "text/plain": [
              "'/content'"
            ]
          },
          "metadata": {
            "tags": []
          },
          "execution_count": 111
        }
      ]
    },
    {
      "cell_type": "code",
      "metadata": {
        "colab": {
          "base_uri": "https://localhost:8080/"
        },
        "id": "5rHcZZXLA0as",
        "outputId": "134ab986-1390-417e-b3b3-63f7e5f83643"
      },
      "source": [
        "vote2016 = 1877963+2089104\n",
        "vote2020 = 2474507+2461837\n",
        "clinton = 1877963\n",
        "biden = 2474507\n",
        "var_clinton = clinton * (1 - clinton / vote2016)\n",
        "var_biden = biden * (1 - biden / vote2020)\n",
        "para11 = np.abs(hilary - biden)/np.sqrt(var_clinton + var_biden)\n",
        "\n",
        "p_clinton = clinton / vote2016\n",
        "p_biden = biden / vote2020\n",
        "vari_clinton = p_clinton * (1 - p_clinton) / vote2016\n",
        "vari_biden = p_biden * (1 - p_biden) / vote2020\n",
        "para12 = np.abs(p_clinton - p_biden) / np.sqrt(vari_clinton + vari_biden)\n",
        "print(para12)"
      ],
      "execution_count": 112,
      "outputs": [
        {
          "output_type": "stream",
          "text": [
            "82.80538475143483\n"
          ],
          "name": "stdout"
        }
      ]
    },
    {
      "cell_type": "markdown",
      "metadata": {
        "id": "PeaWOvzn_gNT"
      },
      "source": [
        "## [ 6 Points] Find and retrieve the underlying election data and repeat his calculations. \n",
        "\n",
        "- Explain where and how you got the data and provide a reproducible way to find and retrieve them.\n",
        "- Do you find the same inputs Cicchetti did? If not, explain.\n",
        "- Do you get the same Z-scores reported in paragraphs 11, 12, and 15? If not, explain."
      ]
    },
    {
      "cell_type": "markdown",
      "metadata": {
        "id": "kFU3bmqI8zII"
      },
      "source": [
        "\n",
        "\n",
        "1.   The date is from kaggle and the file name is \"1976-2020-president.csv\" and size is 502.1 KB, the web url is https://www.kaggle.com/tunguz/us-elections-dataset.\n",
        "2.   For the inputs of Cicchetti, in Cicchetti's inputs.\n",
        "\n",
        "    For 2016,\n",
        "\n",
        "    Clinton received 1877963 votes\n",
        "        \n",
        "    Trump received 2089104 votes\n",
        "\n",
        "    Total for two major candidates received in 2016 is 1877963+2089104 = 3967067\n",
        "    \n",
        "    For 2020,\n",
        "\n",
        "    Biden received 4662328 * 50.14% = 2337691 votes\n",
        "\n",
        "    Trump received 4662328 * 49.86 % = 2324637 votes\n",
        "\n",
        "    Total for two major candidates received in 2020 is 4662328\n",
        "\n",
        "    In our data, for 2016, the inputs are the same for both candidates, thus the summation is the same, while for 2020, Biden received 2473633 votes and Trump received 2461854 votes. And the toal is 2473633 + 2461854 = 4935487. According to the paper, the reason is that the data Cicchetti use is only up to November 4th thus some mail vote is not included. And what we have is the final results of the election.\n",
        "\n",
        "3.   Since on 2016, the inputs are the same the Z-test results but for 2020 the inputs are not the same therefore the result should have slightly different since for paragraph 11, 12, and 15 need the input from 2020. As we can see that \n",
        "\n",
        "    for the paragraph 11, the result is 399.53 while Cicchetti has 396.3.\n",
        "\n",
        "    for the paragraph 12, the result is 82.53 while Cicchetti has 108.7\n",
        "\n",
        "    for the paragraph 15, using the input from paragraph15, the result is the same, which is 1891.\n",
        "\n"
      ]
    },
    {
      "cell_type": "code",
      "metadata": {
        "colab": {
          "base_uri": "https://localhost:8080/"
        },
        "id": "8x23qmL0Q6fG",
        "outputId": "df7b7b39-f52c-4a35-e918-be6254867816"
      },
      "source": [
        "raw = pd.read_csv('1976-2020-president.csv')\n",
        "clinton = raw.loc[(raw['year'] == 2016) & (raw['state'] == 'GEORGIA') & (raw['party_detailed'] == 'DEMOCRAT')].reset_index()\n",
        "biden = raw.loc[(raw['year'] == 2020) & (raw['state'] == 'GEORGIA') & (raw['party_detailed'] == 'DEMOCRAT')].reset_index()\n",
        "trump16 = raw.loc[(raw['year'] == 2016) & (raw['state'] == 'GEORGIA') & (raw['party_detailed'] == 'REPUBLICAN')].reset_index()\n",
        "trump20 = raw.loc[(raw['year'] == 2020) & (raw['state'] == 'GEORGIA') & (raw['party_detailed'] == 'REPUBLICAN')].reset_index()\n",
        "\n",
        "clinton_vote = clinton['candidatevotes'][0]\n",
        "biden_vote = biden['candidatevotes'][0]\n",
        "trump16_vote = trump16['candidatevotes'][0]\n",
        "trump20_vote = trump20['candidatevotes'][0]\n",
        "print('In 2016, Clinton received:', clinton_vote,'votes')\n",
        "print('In 2016, Trump received:', trump16_vote,'votes')\n",
        "print('In 2020, Biden received:', biden_vote,'votes')\n",
        "print('In 2020, Trump received:', trump20_vote,'votes')\n",
        "\n",
        "total16 = clinton_vote+trump16_vote\n",
        "total20 = biden_vote+trump20_vote"
      ],
      "execution_count": 113,
      "outputs": [
        {
          "output_type": "stream",
          "text": [
            "In 2016, Clinton received: 1877963 votes\n",
            "In 2016, Trump received: 2089104 votes\n",
            "In 2020, Biden received: 2473633 votes\n",
            "In 2020, Trump received: 2461854 votes\n"
          ],
          "name": "stdout"
        }
      ]
    },
    {
      "cell_type": "code",
      "metadata": {
        "colab": {
          "base_uri": "https://localhost:8080/"
        },
        "id": "rAAmPyyybGnc",
        "outputId": "fade7a30-1c15-4eef-e919-bdec78a12a33"
      },
      "source": [
        "sigma_clinton = clinton_vote * (1 - clinton_vote / total16)\n",
        "sigma_biden = biden_vote * (1 - biden_vote / total20)\n",
        "np.abs(clinton_vote-biden_vote)/np.sqrt(sigma_clinton+sigma_biden)"
      ],
      "execution_count": 114,
      "outputs": [
        {
          "output_type": "execute_result",
          "data": {
            "text/plain": [
              "399.5336649261113"
            ]
          },
          "metadata": {
            "tags": []
          },
          "execution_count": 114
        }
      ]
    },
    {
      "cell_type": "code",
      "metadata": {
        "colab": {
          "base_uri": "https://localhost:8080/"
        },
        "id": "w0TDQ9NXcqBr",
        "outputId": "81d6aedf-7944-4e31-f0bc-60bd434e0e79"
      },
      "source": [
        "p_clinton = clinton_vote / total16\n",
        "p_biden = biden_vote / total20\n",
        "s_clinton = p_clinton * (1 - p_clinton) / total16\n",
        "s_biden = p_biden * (1 - p_biden) / total20\n",
        "np.abs(p_clinton-p_biden)/np.sqrt(s_clinton+s_biden)"
      ],
      "execution_count": 115,
      "outputs": [
        {
          "output_type": "execute_result",
          "data": {
            "text/plain": [
              "82.53488505988976"
            ]
          },
          "metadata": {
            "tags": []
          },
          "execution_count": 115
        }
      ]
    },
    {
      "cell_type": "code",
      "metadata": {
        "colab": {
          "base_uri": "https://localhost:8080/"
        },
        "id": "MdgS2KiOcstc",
        "outputId": "7ddcbd18-c2cb-4c64-b910-4de9c344e198"
      },
      "source": [
        "# According to Ciccitte, he asserted the data contains almost 94.6% of the final tally\n",
        "# the reported percentage are Trump 49.86% vs Biden 51.09%, and 5.4% of votes 71.6% for Biden and 28.4% for Trump\n",
        "4662328/(4662328+268204)\n",
        "def paragraph15(p0 = .4891, p1 = .716,n0 = 4662328, n1 = 268204):\n",
        "  var0 = n0*p0*(1-p0)\n",
        "  var1 = n1*p1*(1-p1)\n",
        "  return np.abs(n0*p0 - n1*p1)/np.sqrt(var0+var1)\n",
        "paragraph15()"
      ],
      "execution_count": 116,
      "outputs": [
        {
          "output_type": "execute_result",
          "data": {
            "text/plain": [
              "1891.004125778797"
            ]
          },
          "metadata": {
            "tags": []
          },
          "execution_count": 116
        }
      ]
    },
    {
      "cell_type": "markdown",
      "metadata": {
        "id": "jDLHPseu_kaL"
      },
      "source": [
        "## [ 4 Points] Z tests\n",
        "\n",
        "- What are the assumptions of a Z-test? What is the complete null hypothesis for a Z-test?\n",
        "- Are the assumptions met here? Why or why not?"
      ]
    },
    {
      "cell_type": "markdown",
      "metadata": {
        "id": "u_FUm5aTD4CL"
      },
      "source": [
        "1.   For a Z-test, the distribution of the test statistic under the null hypothesis should be approximately normal distribution. Each sample should be identical and independent. The sample size should be large enough i.e. $n_{i} > 30$.\n",
        "\n",
        "  the complete null hypothesis for a Z-test is\n",
        "    \n",
        "    $H_{0}: x_i ～\b^{i.i.d} N(\\mu_{x}, \\sigma_{x}), y_j ～\b^{i.i.d} N(\\mu_{y}, \\sigma_{y}), i, j > 30$ then $\\mu_{x} = \\mu_{y}$\n",
        "  \n",
        "2.  Under the assumptions of Z-test, the population of the sample is large enough and approximately normal. One of the assumption of Z-test is all the sample should be independent and identically distributed random variable, however in this case whether the samples are indenpendent is doubted. Since one may need indenpendent decision for voting, but in reality, either Trump supporters or Biden supporters would affect others' decision on voting. However, most of the voter should have the indenpendent decision on voting. Thus, the assumptions did not meet here."
      ]
    },
    {
      "cell_type": "markdown",
      "metadata": {
        "id": "K00qfTZF_ohl"
      },
      "source": [
        "## [ 6 Points] Z tests in Cicchetti's analysis\n",
        "\n",
        "Cicchetti's analysis assumes that votes are random and there is a given probability that\n",
        "each voter will vote for the Democratic candidate, independent of all other voters. Suppose that's true.\n",
        "\n",
        "+ What is the probability distribution of the number of votes for the Democratic candidate?\n",
        "+ What is the probability distribution of the difference in vote shares across elections?\n",
        "+ Do you think the normal approximation to that distribution is accurate to a part in a quintillion? Why or why not?"
      ]
    },
    {
      "cell_type": "markdown",
      "metadata": {
        "id": "uZuiXZKY80Q2"
      },
      "source": [
        "\n",
        "\n",
        "1.   From this paper, Cicchetti state that the probability distribution of the number of votes for the Democratic candidate is binominal distribution.\n",
        "\n",
        "2.   The probability distribution of the difference in votes share across elections should be normal, since the population is large enough\n",
        "\n",
        "3.  Since the sample size is large enough, the normal approximation to that distribution is accurate.\n",
        "\n"
      ]
    },
    {
      "cell_type": "markdown",
      "metadata": {
        "id": "H-LTp-_U_q2P"
      },
      "source": [
        "## [ 2 Points] What are the strengths of Cichetti's analysis?\n",
        "\n"
      ]
    },
    {
      "cell_type": "markdown",
      "metadata": {
        "id": "APta8iCg80_1"
      },
      "source": [
        "According to this paper, Cichetti's analysis is convincible and well-detailed on his analysis. He used three hypotheses and compared different time voting the illustrate his idea. Since both 2016 and 2020 have Trump as a candidate, if 2020 is fraud or error, then the probability of fraud or error in 2016 is large. Thus, by accepting the null hypotheses of paragraph 11 and 12, one can strongly assert that the probability of fraud or error is small. And the hypothesis of paragraph 15 states that the reveral is also valid."
      ]
    },
    {
      "cell_type": "markdown",
      "metadata": {
        "id": "BA36-VQf_s2w"
      },
      "source": [
        "## [ 2 Points] What are the shortcomings?"
      ]
    },
    {
      "cell_type": "markdown",
      "metadata": {
        "id": "BToTMhcl81wk"
      },
      "source": [
        "For paragraph 11 and 12, even though, one can assume that all the voters are independent, the reality may not follow, each voter may not make decision independently. This is inevitable, thus, under Cichetti's assumption, he did not include this rather than using theory only, especially in 2020. Some of the supporters are not truely support the candidate. Thus, the increasing part from 2016 may not truly represent truth. For paragraph 15, due to Covid-19, some of the voter who come in person in 2016 may choose to use mail voting."
      ]
    },
    {
      "cell_type": "markdown",
      "metadata": {
        "id": "pKYtulZS_u-L"
      },
      "source": [
        "## [ 2 Points] How strong is Cicchetti's argument that the reported results in Georgia are wrong? Explain."
      ]
    },
    {
      "cell_type": "markdown",
      "metadata": {
        "id": "oIXilXpn82bE"
      },
      "source": [
        "The Cicchetti's argument are relatively weak. First, as mentioned before, it does not include the reality that the voters may not be independent and identical distributed, thus the assumption under Z-test may have flaws. Moreover, he did not consider the influences of Covid-19. Since in 2020 the election is one of the most special one. As mentioned before, some of the voter may vote due to he or she does not like the candidate not support the other, and some of the voter who come in person may choose to do so by mailing. Therefore, since these CIcchetti's argument may not be strong enough."
      ]
    }
  ]
}